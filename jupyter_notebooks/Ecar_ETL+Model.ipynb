{
  "cells": [
    {
      "cell_type": "markdown",
      "metadata": {
        "id": "0aStgWSO0E0E"
      },
      "source": [
        "# **(ADD THE NOTEBOOK NAME HERE)**"
      ]
    },
    {
      "cell_type": "markdown",
      "metadata": {
        "id": "1eLEkw5O0ECa"
      },
      "source": [
        "## Objectives\n",
        "\n",
        "* Write your notebook objective here, for example, \"Fetch data from Kaggle and save as raw data\", or \"engineer features for modelling\"\n",
        "\n",
        "## Inputs\n",
        "\n",
        "* Write down which data or information you need to run the notebook \n",
        "\n",
        "## Outputs\n",
        "\n",
        "* Write here which files, code or artefacts you generate by the end of the notebook \n",
        "\n",
        "## Additional Comments\n",
        "\n",
        "* If you have any additional comments that don't fit in the previous bullets, please state them here. \n",
        "\n"
      ]
    },
    {
      "cell_type": "code",
      "execution_count": 8,
      "metadata": {},
      "outputs": [
        {
          "name": "stdout",
          "output_type": "stream",
          "text": [
            "Python 3.12.8\n"
          ]
        }
      ],
      "source": [
        "#Check Python version\n",
        "! python --version"
      ]
    },
    {
      "cell_type": "markdown",
      "metadata": {
        "id": "9uWZXH9LwoQg"
      },
      "source": [
        "---"
      ]
    },
    {
      "cell_type": "markdown",
      "metadata": {
        "id": "cqP-UeN-z3i2"
      },
      "source": [
        "# Change working directory"
      ]
    },
    {
      "cell_type": "markdown",
      "metadata": {},
      "source": [
        "* We are assuming you will store the notebooks in a subfolder, therefore when running the notebook in the editor, you will need to change the working directory"
      ]
    },
    {
      "cell_type": "markdown",
      "metadata": {
        "id": "aOGIGS-uz3i2"
      },
      "source": [
        "We need to change the working directory from its current folder to its parent folder\n",
        "* We access the current directory with os.getcwd()"
      ]
    },
    {
      "cell_type": "code",
      "execution_count": 2,
      "metadata": {
        "id": "wZfF_j-Bz3i4",
        "outputId": "66943449-1436-4c3d-85c7-b85f9f78349b"
      },
      "outputs": [
        {
          "data": {
            "text/plain": [
              "'c:\\\\Users\\\\jerem\\\\OneDrive\\\\Documents\\\\CodeInstitute\\\\vscode-projects\\\\Capstone_Evaluating_Domestic_Electrification_Measures\\\\jupyter_notebooks'"
            ]
          },
          "execution_count": 2,
          "metadata": {},
          "output_type": "execute_result"
        }
      ],
      "source": [
        "import os\n",
        "current_dir = os.getcwd()\n",
        "current_dir"
      ]
    },
    {
      "cell_type": "markdown",
      "metadata": {
        "id": "9MWW8E7lz3i7"
      },
      "source": [
        "We want to make the parent of the current directory the new current directory\n",
        "* os.path.dirname() gets the parent directory\n",
        "* os.chir() defines the new current directory"
      ]
    },
    {
      "cell_type": "code",
      "execution_count": 3,
      "metadata": {
        "id": "TwHsQRWjz3i9",
        "outputId": "86849db3-cd2f-4cc5-ebb8-2d0caafa1a2c"
      },
      "outputs": [
        {
          "name": "stdout",
          "output_type": "stream",
          "text": [
            "You set a new current directory\n"
          ]
        }
      ],
      "source": [
        "os.chdir(os.path.dirname(current_dir))\n",
        "print(\"You set a new current directory\")"
      ]
    },
    {
      "cell_type": "markdown",
      "metadata": {
        "id": "M_xPk_Ijz3i-"
      },
      "source": [
        "Confirm the new current directory"
      ]
    },
    {
      "cell_type": "code",
      "execution_count": 4,
      "metadata": {
        "id": "vz3S-_kjz3jA",
        "outputId": "00b79ae4-75d0-4a96-d193-ac9ef9847ea2"
      },
      "outputs": [
        {
          "data": {
            "text/plain": [
              "'c:\\\\Users\\\\jerem\\\\OneDrive\\\\Documents\\\\CodeInstitute\\\\vscode-projects\\\\Capstone_Evaluating_Domestic_Electrification_Measures'"
            ]
          },
          "execution_count": 4,
          "metadata": {},
          "output_type": "execute_result"
        }
      ],
      "source": [
        "current_dir = os.getcwd()\n",
        "current_dir"
      ]
    },
    {
      "cell_type": "markdown",
      "metadata": {
        "id": "-mavJ8DibrcQ"
      },
      "source": [
        "# Section 1"
      ]
    },
    {
      "cell_type": "markdown",
      "metadata": {},
      "source": [
        "Section 1 content"
      ]
    },
    {
      "cell_type": "markdown",
      "metadata": {},
      "source": [
        "Import necessary Python Packages"
      ]
    },
    {
      "cell_type": "code",
      "execution_count": 5,
      "metadata": {},
      "outputs": [],
      "source": [
        "import numpy as np\n",
        "import pandas as pd\n",
        "import matplotlib.pyplot as plt"
      ]
    },
    {
      "cell_type": "markdown",
      "metadata": {},
      "source": [
        "Read 2023 car database data obtained from Kaggle at\n",
        "https://www.kaggle.com/datasets/kkhandekar/cheapest-electric-cars\n",
        "\n",
        "which itself was scraped in 2023 from \n",
        "https://ev-database.org/ which may have later data.\n",
        "\n",
        "Insufficient time to update with latter, but may be a future improvement as ecars are fast improving in price and technology.\n"
      ]
    },
    {
      "cell_type": "code",
      "execution_count": 12,
      "metadata": {},
      "outputs": [
        {
          "data": {
            "text/html": [
              "<div>\n",
              "<style scoped>\n",
              "    .dataframe tbody tr th:only-of-type {\n",
              "        vertical-align: middle;\n",
              "    }\n",
              "\n",
              "    .dataframe tbody tr th {\n",
              "        vertical-align: top;\n",
              "    }\n",
              "\n",
              "    .dataframe thead th {\n",
              "        text-align: right;\n",
              "    }\n",
              "</style>\n",
              "<table border=\"1\" class=\"dataframe\">\n",
              "  <thead>\n",
              "    <tr style=\"text-align: right;\">\n",
              "      <th></th>\n",
              "      <th>Name</th>\n",
              "      <th>Subtitle</th>\n",
              "      <th>Acceleration</th>\n",
              "      <th>TopSpeed</th>\n",
              "      <th>Range</th>\n",
              "      <th>Efficiency</th>\n",
              "      <th>FastChargeSpeed</th>\n",
              "      <th>Drive</th>\n",
              "      <th>NumberofSeats</th>\n",
              "      <th>PriceinGermany</th>\n",
              "      <th>PriceinUK</th>\n",
              "    </tr>\n",
              "  </thead>\n",
              "  <tbody>\n",
              "    <tr>\n",
              "      <th>0</th>\n",
              "      <td>Lucid Air Dream Edition P</td>\n",
              "      <td>118 kWh useable battery          Available sin...</td>\n",
              "      <td>2.7 sec</td>\n",
              "      <td>270 km/h</td>\n",
              "      <td>645 km</td>\n",
              "      <td>183 Wh/km</td>\n",
              "      <td>820 km/h</td>\n",
              "      <td>All Wheel Drive</td>\n",
              "      <td>5</td>\n",
              "      <td>€218,000</td>\n",
              "      <td>NaN</td>\n",
              "    </tr>\n",
              "    <tr>\n",
              "      <th>1</th>\n",
              "      <td>Porsche Taycan Turbo S</td>\n",
              "      <td>83.7 kWh useable battery          Available si...</td>\n",
              "      <td>2.8 sec</td>\n",
              "      <td>260 km/h</td>\n",
              "      <td>400 km</td>\n",
              "      <td>209 Wh/km</td>\n",
              "      <td>980 km/h</td>\n",
              "      <td>All Wheel Drive</td>\n",
              "      <td>4</td>\n",
              "      <td>€189,668</td>\n",
              "      <td>£142,400</td>\n",
              "    </tr>\n",
              "    <tr>\n",
              "      <th>2</th>\n",
              "      <td>Audi e-tron GT RS</td>\n",
              "      <td>85 kWh useable battery          Available sinc...</td>\n",
              "      <td>3.3 sec</td>\n",
              "      <td>250 km/h</td>\n",
              "      <td>405 km</td>\n",
              "      <td>210 Wh/km</td>\n",
              "      <td>1000 km/h</td>\n",
              "      <td>All Wheel Drive</td>\n",
              "      <td>4</td>\n",
              "      <td>€146,050</td>\n",
              "      <td>£115,000</td>\n",
              "    </tr>\n",
              "    <tr>\n",
              "      <th>3</th>\n",
              "      <td>Renault Zoe ZE50 R110</td>\n",
              "      <td>52 kWh useable battery          Available sinc...</td>\n",
              "      <td>11.4 sec</td>\n",
              "      <td>135 km/h</td>\n",
              "      <td>315 km</td>\n",
              "      <td>165 Wh/km</td>\n",
              "      <td>230 km/h</td>\n",
              "      <td>Front Wheel Drive</td>\n",
              "      <td>5</td>\n",
              "      <td>€36,840</td>\n",
              "      <td>NaN</td>\n",
              "    </tr>\n",
              "    <tr>\n",
              "      <th>4</th>\n",
              "      <td>Audi Q4 e-tron 35</td>\n",
              "      <td>52 kWh useable battery          Available sinc...</td>\n",
              "      <td>9.0 sec</td>\n",
              "      <td>160 km/h</td>\n",
              "      <td>285 km</td>\n",
              "      <td>182 Wh/km</td>\n",
              "      <td>360 km/h</td>\n",
              "      <td>Rear Wheel Drive</td>\n",
              "      <td>5</td>\n",
              "      <td>NaN</td>\n",
              "      <td>NaN</td>\n",
              "    </tr>\n",
              "    <tr>\n",
              "      <th>...</th>\n",
              "      <td>...</td>\n",
              "      <td>...</td>\n",
              "      <td>...</td>\n",
              "      <td>...</td>\n",
              "      <td>...</td>\n",
              "      <td>...</td>\n",
              "      <td>...</td>\n",
              "      <td>...</td>\n",
              "      <td>...</td>\n",
              "      <td>...</td>\n",
              "      <td>...</td>\n",
              "    </tr>\n",
              "    <tr>\n",
              "      <th>304</th>\n",
              "      <td>Volkswagen ID.7 Pro</td>\n",
              "      <td>77 kWh useable battery          Expected from ...</td>\n",
              "      <td>8.0 sec</td>\n",
              "      <td>180 km/h</td>\n",
              "      <td>470 km</td>\n",
              "      <td>164 Wh/km</td>\n",
              "      <td>700 km/h</td>\n",
              "      <td>Rear Wheel Drive</td>\n",
              "      <td>5</td>\n",
              "      <td>€55,000</td>\n",
              "      <td>£53,000</td>\n",
              "    </tr>\n",
              "    <tr>\n",
              "      <th>305</th>\n",
              "      <td>Volkswagen ID.7 Pro S</td>\n",
              "      <td>86 kWh useable battery          Expected from ...</td>\n",
              "      <td>7.0 sec</td>\n",
              "      <td>180 km/h</td>\n",
              "      <td>520 km</td>\n",
              "      <td>165 Wh/km</td>\n",
              "      <td>800 km/h</td>\n",
              "      <td>Rear Wheel Drive</td>\n",
              "      <td>5</td>\n",
              "      <td>€60,000</td>\n",
              "      <td>£56,000</td>\n",
              "    </tr>\n",
              "    <tr>\n",
              "      <th>306</th>\n",
              "      <td>Polestar 4 Long Range Single Motor</td>\n",
              "      <td>94 kWh useable battery          Expected from ...</td>\n",
              "      <td>7.4 sec</td>\n",
              "      <td>180 km/h</td>\n",
              "      <td>510 km</td>\n",
              "      <td>184 Wh/km</td>\n",
              "      <td>760 km/h</td>\n",
              "      <td>Rear Wheel Drive</td>\n",
              "      <td>5</td>\n",
              "      <td>€60,000</td>\n",
              "      <td>£55,000</td>\n",
              "    </tr>\n",
              "    <tr>\n",
              "      <th>307</th>\n",
              "      <td>Polestar 4 Long Range Dual Motor</td>\n",
              "      <td>94 kWh useable battery          Expected from ...</td>\n",
              "      <td>3.8 sec</td>\n",
              "      <td>200 km/h</td>\n",
              "      <td>475 km</td>\n",
              "      <td>198 Wh/km</td>\n",
              "      <td>710 km/h</td>\n",
              "      <td>All Wheel Drive</td>\n",
              "      <td>5</td>\n",
              "      <td>€65,000</td>\n",
              "      <td>£60,000</td>\n",
              "    </tr>\n",
              "    <tr>\n",
              "      <th>308</th>\n",
              "      <td>Maserati Grecale Folgore</td>\n",
              "      <td>95 kWh useable battery          Expected from ...</td>\n",
              "      <td>4.1 sec</td>\n",
              "      <td>220 km/h</td>\n",
              "      <td>405 km</td>\n",
              "      <td>235 Wh/km</td>\n",
              "      <td>440 km/h</td>\n",
              "      <td>All Wheel Drive</td>\n",
              "      <td>5</td>\n",
              "      <td>NaN</td>\n",
              "      <td>£135,000</td>\n",
              "    </tr>\n",
              "  </tbody>\n",
              "</table>\n",
              "<p>309 rows × 11 columns</p>\n",
              "</div>"
            ],
            "text/plain": [
              "                                   Name  \\\n",
              "0             Lucid Air Dream Edition P   \n",
              "1                Porsche Taycan Turbo S   \n",
              "2                     Audi e-tron GT RS   \n",
              "3                 Renault Zoe ZE50 R110   \n",
              "4                     Audi Q4 e-tron 35   \n",
              "..                                  ...   \n",
              "304                 Volkswagen ID.7 Pro   \n",
              "305               Volkswagen ID.7 Pro S   \n",
              "306  Polestar 4 Long Range Single Motor   \n",
              "307    Polestar 4 Long Range Dual Motor   \n",
              "308            Maserati Grecale Folgore   \n",
              "\n",
              "                                              Subtitle Acceleration  TopSpeed  \\\n",
              "0    118 kWh useable battery          Available sin...      2.7 sec  270 km/h   \n",
              "1    83.7 kWh useable battery          Available si...      2.8 sec  260 km/h   \n",
              "2    85 kWh useable battery          Available sinc...      3.3 sec  250 km/h   \n",
              "3    52 kWh useable battery          Available sinc...     11.4 sec  135 km/h   \n",
              "4    52 kWh useable battery          Available sinc...      9.0 sec  160 km/h   \n",
              "..                                                 ...          ...       ...   \n",
              "304  77 kWh useable battery          Expected from ...      8.0 sec  180 km/h   \n",
              "305  86 kWh useable battery          Expected from ...      7.0 sec  180 km/h   \n",
              "306  94 kWh useable battery          Expected from ...      7.4 sec  180 km/h   \n",
              "307  94 kWh useable battery          Expected from ...      3.8 sec  200 km/h   \n",
              "308  95 kWh useable battery          Expected from ...      4.1 sec  220 km/h   \n",
              "\n",
              "      Range Efficiency FastChargeSpeed              Drive  NumberofSeats  \\\n",
              "0    645 km  183 Wh/km        820 km/h    All Wheel Drive              5   \n",
              "1    400 km  209 Wh/km        980 km/h    All Wheel Drive              4   \n",
              "2    405 km  210 Wh/km       1000 km/h    All Wheel Drive              4   \n",
              "3    315 km  165 Wh/km        230 km/h  Front Wheel Drive              5   \n",
              "4    285 km  182 Wh/km        360 km/h   Rear Wheel Drive              5   \n",
              "..      ...        ...             ...                ...            ...   \n",
              "304  470 km  164 Wh/km        700 km/h   Rear Wheel Drive              5   \n",
              "305  520 km  165 Wh/km        800 km/h   Rear Wheel Drive              5   \n",
              "306  510 km  184 Wh/km        760 km/h   Rear Wheel Drive              5   \n",
              "307  475 km  198 Wh/km        710 km/h    All Wheel Drive              5   \n",
              "308  405 km  235 Wh/km        440 km/h    All Wheel Drive              5   \n",
              "\n",
              "    PriceinGermany PriceinUK  \n",
              "0         €218,000       NaN  \n",
              "1         €189,668  £142,400  \n",
              "2         €146,050  £115,000  \n",
              "3          €36,840       NaN  \n",
              "4              NaN       NaN  \n",
              "..             ...       ...  \n",
              "304        €55,000   £53,000  \n",
              "305        €60,000   £56,000  \n",
              "306        €60,000   £55,000  \n",
              "307        €65,000   £60,000  \n",
              "308            NaN  £135,000  \n",
              "\n",
              "[309 rows x 11 columns]"
            ]
          },
          "execution_count": 12,
          "metadata": {},
          "output_type": "execute_result"
        }
      ],
      "source": [
        "df_ecars = pd.read_csv('Data/1_Raw/Cheapestelectriccars-EVDatabase_2023.csv')\n",
        "df_ecars"
      ]
    },
    {
      "cell_type": "markdown",
      "metadata": {},
      "source": [
        "Remove rows with no UK costs. Note I began looking some up but realised these are inconsistent being more recent so decided to omit this step for consistency.  As above ideally the whole table would be reviewed with more up to date data e.g. new cars on the market and often reduced prices in 2025."
      ]
    },
    {
      "cell_type": "code",
      "execution_count": 19,
      "metadata": {},
      "outputs": [
        {
          "data": {
            "text/html": [
              "<div>\n",
              "<style scoped>\n",
              "    .dataframe tbody tr th:only-of-type {\n",
              "        vertical-align: middle;\n",
              "    }\n",
              "\n",
              "    .dataframe tbody tr th {\n",
              "        vertical-align: top;\n",
              "    }\n",
              "\n",
              "    .dataframe thead th {\n",
              "        text-align: right;\n",
              "    }\n",
              "</style>\n",
              "<table border=\"1\" class=\"dataframe\">\n",
              "  <thead>\n",
              "    <tr style=\"text-align: right;\">\n",
              "      <th></th>\n",
              "      <th>Name</th>\n",
              "      <th>Subtitle</th>\n",
              "      <th>Acceleration</th>\n",
              "      <th>TopSpeed</th>\n",
              "      <th>Range</th>\n",
              "      <th>Efficiency</th>\n",
              "      <th>FastChargeSpeed</th>\n",
              "      <th>Drive</th>\n",
              "      <th>NumberofSeats</th>\n",
              "      <th>PriceinGermany</th>\n",
              "      <th>PriceinUK</th>\n",
              "    </tr>\n",
              "  </thead>\n",
              "  <tbody>\n",
              "    <tr>\n",
              "      <th>1</th>\n",
              "      <td>Porsche Taycan Turbo S</td>\n",
              "      <td>83.7 kWh useable battery          Available si...</td>\n",
              "      <td>2.8 sec</td>\n",
              "      <td>260 km/h</td>\n",
              "      <td>400 km</td>\n",
              "      <td>209 Wh/km</td>\n",
              "      <td>980 km/h</td>\n",
              "      <td>All Wheel Drive</td>\n",
              "      <td>4</td>\n",
              "      <td>€189,668</td>\n",
              "      <td>£142,400</td>\n",
              "    </tr>\n",
              "    <tr>\n",
              "      <th>2</th>\n",
              "      <td>Audi e-tron GT RS</td>\n",
              "      <td>85 kWh useable battery          Available sinc...</td>\n",
              "      <td>3.3 sec</td>\n",
              "      <td>250 km/h</td>\n",
              "      <td>405 km</td>\n",
              "      <td>210 Wh/km</td>\n",
              "      <td>1000 km/h</td>\n",
              "      <td>All Wheel Drive</td>\n",
              "      <td>4</td>\n",
              "      <td>€146,050</td>\n",
              "      <td>£115,000</td>\n",
              "    </tr>\n",
              "    <tr>\n",
              "      <th>5</th>\n",
              "      <td>Tesla Model Y Performance</td>\n",
              "      <td>75 kWh useable battery          Available sinc...</td>\n",
              "      <td>3.7 sec</td>\n",
              "      <td>250 km/h</td>\n",
              "      <td>415 km</td>\n",
              "      <td>181 Wh/km</td>\n",
              "      <td>640 km/h</td>\n",
              "      <td>All Wheel Drive</td>\n",
              "      <td>5</td>\n",
              "      <td>€63,667</td>\n",
              "      <td>£59,990</td>\n",
              "    </tr>\n",
              "    <tr>\n",
              "      <th>6</th>\n",
              "      <td>Porsche Taycan 4 Cross Turismo</td>\n",
              "      <td>83.7 kWh useable battery          Available si...</td>\n",
              "      <td>5.1 sec</td>\n",
              "      <td>220 km/h</td>\n",
              "      <td>425 km</td>\n",
              "      <td>197 Wh/km</td>\n",
              "      <td>1050 km/h</td>\n",
              "      <td>All Wheel Drive</td>\n",
              "      <td>4</td>\n",
              "      <td>€98,514</td>\n",
              "      <td>£84,500</td>\n",
              "    </tr>\n",
              "    <tr>\n",
              "      <th>7</th>\n",
              "      <td>Renault Zoe ZE50 R135</td>\n",
              "      <td>52 kWh useable battery          Available sinc...</td>\n",
              "      <td>9.5 sec</td>\n",
              "      <td>140 km/h</td>\n",
              "      <td>310 km</td>\n",
              "      <td>168 Wh/km</td>\n",
              "      <td>230 km/h</td>\n",
              "      <td>Front Wheel Drive</td>\n",
              "      <td>5</td>\n",
              "      <td>€37,840</td>\n",
              "      <td>£29,995</td>\n",
              "    </tr>\n",
              "    <tr>\n",
              "      <th>...</th>\n",
              "      <td>...</td>\n",
              "      <td>...</td>\n",
              "      <td>...</td>\n",
              "      <td>...</td>\n",
              "      <td>...</td>\n",
              "      <td>...</td>\n",
              "      <td>...</td>\n",
              "      <td>...</td>\n",
              "      <td>...</td>\n",
              "      <td>...</td>\n",
              "      <td>...</td>\n",
              "    </tr>\n",
              "    <tr>\n",
              "      <th>304</th>\n",
              "      <td>Volkswagen ID.7 Pro</td>\n",
              "      <td>77 kWh useable battery          Expected from ...</td>\n",
              "      <td>8.0 sec</td>\n",
              "      <td>180 km/h</td>\n",
              "      <td>470 km</td>\n",
              "      <td>164 Wh/km</td>\n",
              "      <td>700 km/h</td>\n",
              "      <td>Rear Wheel Drive</td>\n",
              "      <td>5</td>\n",
              "      <td>€55,000</td>\n",
              "      <td>£53,000</td>\n",
              "    </tr>\n",
              "    <tr>\n",
              "      <th>305</th>\n",
              "      <td>Volkswagen ID.7 Pro S</td>\n",
              "      <td>86 kWh useable battery          Expected from ...</td>\n",
              "      <td>7.0 sec</td>\n",
              "      <td>180 km/h</td>\n",
              "      <td>520 km</td>\n",
              "      <td>165 Wh/km</td>\n",
              "      <td>800 km/h</td>\n",
              "      <td>Rear Wheel Drive</td>\n",
              "      <td>5</td>\n",
              "      <td>€60,000</td>\n",
              "      <td>£56,000</td>\n",
              "    </tr>\n",
              "    <tr>\n",
              "      <th>306</th>\n",
              "      <td>Polestar 4 Long Range Single Motor</td>\n",
              "      <td>94 kWh useable battery          Expected from ...</td>\n",
              "      <td>7.4 sec</td>\n",
              "      <td>180 km/h</td>\n",
              "      <td>510 km</td>\n",
              "      <td>184 Wh/km</td>\n",
              "      <td>760 km/h</td>\n",
              "      <td>Rear Wheel Drive</td>\n",
              "      <td>5</td>\n",
              "      <td>€60,000</td>\n",
              "      <td>£55,000</td>\n",
              "    </tr>\n",
              "    <tr>\n",
              "      <th>307</th>\n",
              "      <td>Polestar 4 Long Range Dual Motor</td>\n",
              "      <td>94 kWh useable battery          Expected from ...</td>\n",
              "      <td>3.8 sec</td>\n",
              "      <td>200 km/h</td>\n",
              "      <td>475 km</td>\n",
              "      <td>198 Wh/km</td>\n",
              "      <td>710 km/h</td>\n",
              "      <td>All Wheel Drive</td>\n",
              "      <td>5</td>\n",
              "      <td>€65,000</td>\n",
              "      <td>£60,000</td>\n",
              "    </tr>\n",
              "    <tr>\n",
              "      <th>308</th>\n",
              "      <td>Maserati Grecale Folgore</td>\n",
              "      <td>95 kWh useable battery          Expected from ...</td>\n",
              "      <td>4.1 sec</td>\n",
              "      <td>220 km/h</td>\n",
              "      <td>405 km</td>\n",
              "      <td>235 Wh/km</td>\n",
              "      <td>440 km/h</td>\n",
              "      <td>All Wheel Drive</td>\n",
              "      <td>5</td>\n",
              "      <td>NaN</td>\n",
              "      <td>£135,000</td>\n",
              "    </tr>\n",
              "  </tbody>\n",
              "</table>\n",
              "<p>198 rows × 11 columns</p>\n",
              "</div>"
            ],
            "text/plain": [
              "                                   Name  \\\n",
              "1                Porsche Taycan Turbo S   \n",
              "2                     Audi e-tron GT RS   \n",
              "5             Tesla Model Y Performance   \n",
              "6        Porsche Taycan 4 Cross Turismo   \n",
              "7                 Renault Zoe ZE50 R135   \n",
              "..                                  ...   \n",
              "304                 Volkswagen ID.7 Pro   \n",
              "305               Volkswagen ID.7 Pro S   \n",
              "306  Polestar 4 Long Range Single Motor   \n",
              "307    Polestar 4 Long Range Dual Motor   \n",
              "308            Maserati Grecale Folgore   \n",
              "\n",
              "                                              Subtitle Acceleration  TopSpeed  \\\n",
              "1    83.7 kWh useable battery          Available si...      2.8 sec  260 km/h   \n",
              "2    85 kWh useable battery          Available sinc...      3.3 sec  250 km/h   \n",
              "5    75 kWh useable battery          Available sinc...      3.7 sec  250 km/h   \n",
              "6    83.7 kWh useable battery          Available si...      5.1 sec  220 km/h   \n",
              "7    52 kWh useable battery          Available sinc...      9.5 sec  140 km/h   \n",
              "..                                                 ...          ...       ...   \n",
              "304  77 kWh useable battery          Expected from ...      8.0 sec  180 km/h   \n",
              "305  86 kWh useable battery          Expected from ...      7.0 sec  180 km/h   \n",
              "306  94 kWh useable battery          Expected from ...      7.4 sec  180 km/h   \n",
              "307  94 kWh useable battery          Expected from ...      3.8 sec  200 km/h   \n",
              "308  95 kWh useable battery          Expected from ...      4.1 sec  220 km/h   \n",
              "\n",
              "      Range Efficiency FastChargeSpeed              Drive  NumberofSeats  \\\n",
              "1    400 km  209 Wh/km        980 km/h    All Wheel Drive              4   \n",
              "2    405 km  210 Wh/km       1000 km/h    All Wheel Drive              4   \n",
              "5    415 km  181 Wh/km        640 km/h    All Wheel Drive              5   \n",
              "6    425 km  197 Wh/km       1050 km/h    All Wheel Drive              4   \n",
              "7    310 km  168 Wh/km        230 km/h  Front Wheel Drive              5   \n",
              "..      ...        ...             ...                ...            ...   \n",
              "304  470 km  164 Wh/km        700 km/h   Rear Wheel Drive              5   \n",
              "305  520 km  165 Wh/km        800 km/h   Rear Wheel Drive              5   \n",
              "306  510 km  184 Wh/km        760 km/h   Rear Wheel Drive              5   \n",
              "307  475 km  198 Wh/km        710 km/h    All Wheel Drive              5   \n",
              "308  405 km  235 Wh/km        440 km/h    All Wheel Drive              5   \n",
              "\n",
              "    PriceinGermany PriceinUK  \n",
              "1         €189,668  £142,400  \n",
              "2         €146,050  £115,000  \n",
              "5          €63,667   £59,990  \n",
              "6          €98,514   £84,500  \n",
              "7          €37,840   £29,995  \n",
              "..             ...       ...  \n",
              "304        €55,000   £53,000  \n",
              "305        €60,000   £56,000  \n",
              "306        €60,000   £55,000  \n",
              "307        €65,000   £60,000  \n",
              "308            NaN  £135,000  \n",
              "\n",
              "[198 rows x 11 columns]"
            ]
          },
          "execution_count": 19,
          "metadata": {},
          "output_type": "execute_result"
        }
      ],
      "source": [
        "df_ecars = df_ecars.dropna(subset=['PriceinUK'])\n",
        "df_ecars"
      ]
    },
    {
      "cell_type": "markdown",
      "metadata": {},
      "source": [
        "Add columns to convert technoeconomic data to numerical format, concatenate car range, battery size and index to facilitate a sort in ascending size order, and assign a new index."
      ]
    },
    {
      "cell_type": "code",
      "execution_count": null,
      "metadata": {},
      "outputs": [],
      "source": []
    },
    {
      "cell_type": "markdown",
      "metadata": {},
      "source": [
        "Begin creating main Ecar cost and CO2 saving calculation model dataframe"
      ]
    },
    {
      "cell_type": "code",
      "execution_count": 14,
      "metadata": {},
      "outputs": [
        {
          "data": {
            "text/html": [
              "<div>\n",
              "<style scoped>\n",
              "    .dataframe tbody tr th:only-of-type {\n",
              "        vertical-align: middle;\n",
              "    }\n",
              "\n",
              "    .dataframe tbody tr th {\n",
              "        vertical-align: top;\n",
              "    }\n",
              "\n",
              "    .dataframe thead th {\n",
              "        text-align: right;\n",
              "    }\n",
              "</style>\n",
              "<table border=\"1\" class=\"dataframe\">\n",
              "  <thead>\n",
              "    <tr style=\"text-align: right;\">\n",
              "      <th></th>\n",
              "      <th>Annual mileage</th>\n",
              "      <th>Nominal Range (miles)</th>\n",
              "      <th>Ecar Index</th>\n",
              "      <th>average daily mileage</th>\n",
              "      <th>Range2</th>\n",
              "    </tr>\n",
              "  </thead>\n",
              "  <tbody>\n",
              "    <tr>\n",
              "      <th>0</th>\n",
              "      <td>5000</td>\n",
              "      <td>50</td>\n",
              "      <td>1</td>\n",
              "      <td>13.698630</td>\n",
              "      <td>50.000000</td>\n",
              "    </tr>\n",
              "    <tr>\n",
              "      <th>1</th>\n",
              "      <td>5000</td>\n",
              "      <td>100</td>\n",
              "      <td>1</td>\n",
              "      <td>13.698630</td>\n",
              "      <td>100.000000</td>\n",
              "    </tr>\n",
              "    <tr>\n",
              "      <th>2</th>\n",
              "      <td>5000</td>\n",
              "      <td>150</td>\n",
              "      <td>1</td>\n",
              "      <td>13.698630</td>\n",
              "      <td>150.000000</td>\n",
              "    </tr>\n",
              "    <tr>\n",
              "      <th>3</th>\n",
              "      <td>5000</td>\n",
              "      <td>200</td>\n",
              "      <td>1</td>\n",
              "      <td>13.698630</td>\n",
              "      <td>200.000000</td>\n",
              "    </tr>\n",
              "    <tr>\n",
              "      <th>4</th>\n",
              "      <td>5000</td>\n",
              "      <td>238</td>\n",
              "      <td>1</td>\n",
              "      <td>13.698630</td>\n",
              "      <td>238.000000</td>\n",
              "    </tr>\n",
              "    <tr>\n",
              "      <th>...</th>\n",
              "      <td>...</td>\n",
              "      <td>...</td>\n",
              "      <td>...</td>\n",
              "      <td>...</td>\n",
              "      <td>...</td>\n",
              "    </tr>\n",
              "    <tr>\n",
              "      <th>14845</th>\n",
              "      <td>40000</td>\n",
              "      <td>50</td>\n",
              "      <td>198</td>\n",
              "      <td>109.589041</td>\n",
              "      <td>109.589041</td>\n",
              "    </tr>\n",
              "    <tr>\n",
              "      <th>14846</th>\n",
              "      <td>40000</td>\n",
              "      <td>100</td>\n",
              "      <td>198</td>\n",
              "      <td>109.589041</td>\n",
              "      <td>109.589041</td>\n",
              "    </tr>\n",
              "    <tr>\n",
              "      <th>14847</th>\n",
              "      <td>40000</td>\n",
              "      <td>150</td>\n",
              "      <td>198</td>\n",
              "      <td>109.589041</td>\n",
              "      <td>150.000000</td>\n",
              "    </tr>\n",
              "    <tr>\n",
              "      <th>14848</th>\n",
              "      <td>40000</td>\n",
              "      <td>200</td>\n",
              "      <td>198</td>\n",
              "      <td>109.589041</td>\n",
              "      <td>200.000000</td>\n",
              "    </tr>\n",
              "    <tr>\n",
              "      <th>14849</th>\n",
              "      <td>40000</td>\n",
              "      <td>238</td>\n",
              "      <td>198</td>\n",
              "      <td>109.589041</td>\n",
              "      <td>238.000000</td>\n",
              "    </tr>\n",
              "  </tbody>\n",
              "</table>\n",
              "<p>14850 rows × 5 columns</p>\n",
              "</div>"
            ],
            "text/plain": [
              "       Annual mileage  Nominal Range (miles)  Ecar Index  \\\n",
              "0                5000                     50           1   \n",
              "1                5000                    100           1   \n",
              "2                5000                    150           1   \n",
              "3                5000                    200           1   \n",
              "4                5000                    238           1   \n",
              "...               ...                    ...         ...   \n",
              "14845           40000                     50         198   \n",
              "14846           40000                    100         198   \n",
              "14847           40000                    150         198   \n",
              "14848           40000                    200         198   \n",
              "14849           40000                    238         198   \n",
              "\n",
              "       average daily mileage      Range2  \n",
              "0                  13.698630   50.000000  \n",
              "1                  13.698630  100.000000  \n",
              "2                  13.698630  150.000000  \n",
              "3                  13.698630  200.000000  \n",
              "4                  13.698630  238.000000  \n",
              "...                      ...         ...  \n",
              "14845             109.589041  109.589041  \n",
              "14846             109.589041  109.589041  \n",
              "14847             109.589041  150.000000  \n",
              "14848             109.589041  200.000000  \n",
              "14849             109.589041  238.000000  \n",
              "\n",
              "[14850 rows x 5 columns]"
            ]
          },
          "execution_count": 14,
          "metadata": {},
          "output_type": "execute_result"
        }
      ],
      "source": [
        "data = []\n",
        "for c in range(1,199):\n",
        "    for a in range(1, 16):\n",
        "        for r in range(1, 5):\n",
        "            row = [2500+2500*a, r*50,c]\n",
        "            data.append(row)\n",
        "        row = [2500+2500*a,238,c]\n",
        "        data.append(row)\n",
        "df_EcarModel = pd.DataFrame(data, columns=['Annual mileage','Nominal Range (miles)', 'Ecar Index'])\n",
        "df_EcarModel['average daily mileage'] = df_EcarModel['Annual mileage']/365\n",
        "df_EcarModel['Range2'] = df_EcarModel[['Nominal Range (miles)', 'average daily mileage']].max(axis=1)\n",
        "df_EcarModel"
      ]
    },
    {
      "cell_type": "markdown",
      "metadata": {
        "id": "ZY3l0-AxO93d"
      },
      "source": [
        "---"
      ]
    },
    {
      "cell_type": "markdown",
      "metadata": {
        "id": "uFQo3ycuO-v6"
      },
      "source": [
        "# Section 2"
      ]
    },
    {
      "cell_type": "markdown",
      "metadata": {},
      "source": [
        "Section 2 content"
      ]
    },
    {
      "cell_type": "code",
      "execution_count": null,
      "metadata": {},
      "outputs": [],
      "source": []
    },
    {
      "cell_type": "markdown",
      "metadata": {},
      "source": [
        "---"
      ]
    },
    {
      "cell_type": "markdown",
      "metadata": {},
      "source": [
        "NOTE"
      ]
    },
    {
      "cell_type": "markdown",
      "metadata": {},
      "source": [
        "* You may add as many sections as you want, as long as it supports your project workflow.\n",
        "* All notebook's cells should be run top-down (you can't create a dynamic wherein a given point you need to go back to a previous cell to execute some task, like go back to a previous cell and refresh a variable content)"
      ]
    },
    {
      "cell_type": "markdown",
      "metadata": {},
      "source": [
        "---"
      ]
    },
    {
      "cell_type": "markdown",
      "metadata": {
        "id": "ltNetd085qHf"
      },
      "source": [
        "# Push files to Repo"
      ]
    },
    {
      "cell_type": "markdown",
      "metadata": {},
      "source": [
        "* In cases where you don't need to push files to Repo, you may replace this section with \"Conclusions and Next Steps\" and state your conclusions and next steps."
      ]
    },
    {
      "cell_type": "code",
      "execution_count": 7,
      "metadata": {
        "id": "aKlnIozA4eQO",
        "outputId": "fd09bc1f-adb1-4511-f6ce-492a6af570c0"
      },
      "outputs": [
        {
          "ename": "IndentationError",
          "evalue": "expected an indented block after 'try' statement on line 2 (553063055.py, line 5)",
          "output_type": "error",
          "traceback": [
            "  \u001b[36mCell\u001b[39m\u001b[36m \u001b[39m\u001b[32mIn[7]\u001b[39m\u001b[32m, line 5\u001b[39m\n\u001b[31m    \u001b[39m\u001b[31mexcept Exception as e:\u001b[39m\n    ^\n\u001b[31mIndentationError\u001b[39m\u001b[31m:\u001b[39m expected an indented block after 'try' statement on line 2\n"
          ]
        }
      ],
      "source": [
        "import os\n",
        "try:\n",
        "  # create your folder here\n",
        "  # os.makedirs(name='')\n",
        "except Exception as e:\n",
        "  print(e)\n"
      ]
    }
  ],
  "metadata": {
    "accelerator": "GPU",
    "colab": {
      "name": "Data Practitioner Jupyter Notebook.ipynb",
      "provenance": [],
      "toc_visible": true
    },
    "kernelspec": {
      "display_name": ".venv",
      "language": "python",
      "name": "python3"
    },
    "language_info": {
      "codemirror_mode": {
        "name": "ipython",
        "version": 3
      },
      "file_extension": ".py",
      "mimetype": "text/x-python",
      "name": "python",
      "nbconvert_exporter": "python",
      "pygments_lexer": "ipython3",
      "version": "3.12.8"
    },
    "orig_nbformat": 2
  },
  "nbformat": 4,
  "nbformat_minor": 2
}
